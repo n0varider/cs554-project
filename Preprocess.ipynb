{
 "cells": [
  {
   "cell_type": "markdown",
   "id": "116e8b58-01a4-4dec-8722-e71c1aea400e",
   "metadata": {},
   "source": [
    "------------------------------- MACRO DATA"
   ]
  },
  {
   "cell_type": "code",
   "execution_count": 21,
   "id": "19226d36-cf17-4b5c-b6ed-28f7fa3cda1d",
   "metadata": {},
   "outputs": [],
   "source": [
    "# Preprocess data\n",
    "\n",
    "import numpy as np\n",
    "import pandas as pd"
   ]
  },
  {
   "cell_type": "code",
   "execution_count": 22,
   "id": "d4bed38a-f70d-47d4-b4ec-25927278500c",
   "metadata": {},
   "outputs": [],
   "source": [
    "# Filepaths\n",
    "\n",
    "sp500_data = 'MacroData/sp500_data.csv'\n",
    "bond_data = 'MacroData/10_year_bonds.csv'\n",
    "inflation_data = 'MacroData/inflation_data.csv'\n",
    "\n",
    "difficulty_data = 'BitcoinData/bitcoin_network_difficulty.csv'\n",
    "hashrate_data = 'BitcoinData/bitcoin_network_hashrate.csv'\n",
    "btc_prices = 'BitcoinData/bitcoin_prices.csv'"
   ]
  },
  {
   "cell_type": "code",
   "execution_count": 23,
   "id": "31bc696d-58cb-4ab7-a142-0ca06eb834ad",
   "metadata": {},
   "outputs": [],
   "source": [
    "def rename_cols(df, cols, names):\n",
    "    new_names = dict(zip(cols, names))\n",
    "    df.rename(columns=new_names, inplace=True)\n",
    "    return df\n",
    "\n",
    "def fill_empty_dates(df, date_col):\n",
    "    date_range = pd.date_range(start=df[date_col].min(), end=df[date_col].max())\n",
    "    full_dates_df = pd.DataFrame(date_range, columns=['Date'])\n",
    "    full_dates_df['Date'] = pd.to_datetime(full_dates_df['Date'])\n",
    "    df = pd.merge(full_dates_df, df, on='Date', how='left')\n",
    "    df.ffill(inplace=True)\n",
    "    return df"
   ]
  },
  {
   "cell_type": "code",
   "execution_count": 24,
   "id": "a53fe48a-21b6-4fe5-b182-3c3ec59c727d",
   "metadata": {},
   "outputs": [],
   "source": [
    "sp500 = pd.read_csv(sp500_data)\n",
    "\n",
    "sp500['Date'] = pd.to_datetime(sp500['Date'])\n",
    "sp500 = sp500.drop(columns='Volume')\n",
    "sp500 = rename_cols(sp500, ['Open', 'Close', 'High', 'Low'], ['sp500_open', 'sp500_close', 'sp500_high', 'sp500_low'])\n",
    "sp500 = fill_empty_dates(sp500, 'Date')\n",
    "\n",
    "sp500['sp500_log_return'] = np.log(sp500['sp500_close'] / sp500['sp500_close'].shift(1))\n",
    "sp500['sp500_prev_log_return_1'] = sp500['sp500_log_return'].shift(1)\n",
    "sp500['sp500_prev_log_return_2'] = sp500['sp500_log_return'].shift(2)\n",
    "sp500['sp500_prev_log_return_3'] = sp500['sp500_log_return'].shift(3)\n",
    "sp500['sp500_rolling_mean_return_7'] = sp500['sp500_log_return'].rolling(window=7).mean()\n",
    "sp500['sp500_log_return_volatility'] = sp500['sp500_log_return'].rolling(window=7).std()\n",
    "\n",
    "sp500.dropna(inplace=True)\n",
    "\n",
    "sp500.to_csv('Preprocessed/sp500.csv', index=False)"
   ]
  },
  {
   "cell_type": "code",
   "execution_count": 25,
   "id": "201a7513-aded-427f-b02d-cf23717ffcde",
   "metadata": {},
   "outputs": [],
   "source": [
    "bonds = pd.read_csv(bond_data)\n",
    "\n",
    "bonds['Date'] = pd.to_datetime(bonds['Date'])\n",
    "bonds = bonds.drop(columns='Volume')\n",
    "bonds = rename_cols(bonds, ['Open', 'Close', 'High', 'Low'], ['bonds_open', 'bonds_close', 'bonds_high', 'bonds_low'])\n",
    "bonds = fill_empty_dates(bonds, 'Date')\n",
    "\n",
    "bonds.to_csv('Preprocessed/bonds.csv', index=False)"
   ]
  },
  {
   "cell_type": "code",
   "execution_count": 26,
   "id": "9f557b08-6e01-461d-b450-2b45c874924e",
   "metadata": {},
   "outputs": [],
   "source": [
    "import pandas as pd\n",
    "\n",
    "data = pd.read_csv('MacroData/2019_2024_inflation.csv')\n",
    "month_days = [31, 28, 31, 30, 31, 30, 31, 31, 30, 31, 30, 31]\n",
    "months = ['Jan', 'Feb', 'Mar', 'Apr', 'May', 'Jun', 'Jul', 'Aug', 'Sep', 'Oct', 'Nov', 'Dec']\n",
    "dates = pd.date_range('2019-01-01', '2024-12-31')\n",
    "daily_data = []\n",
    "\n",
    "for year in range(2019, 2025):\n",
    "    for month, days_in_month in zip(months, month_days):\n",
    "        inflation_value = data.loc[data['Year'] == year, month].values[0]\n",
    "        month_dates = pd.date_range(f'{year}-{months.index(month)+1:02d}-01', periods=days_in_month)\n",
    "        daily_data.extend([(date, inflation_value) for date in month_dates])\n",
    "\n",
    "df_daily_inflation = pd.DataFrame(daily_data, columns=['Date', 'Inflation'])\n",
    "df_daily_inflation.to_csv('Preprocessed/inflation_daily.csv', index=False)"
   ]
  },
  {
   "cell_type": "markdown",
   "id": "19d471f9-2b74-494b-92cc-9ea6c104293b",
   "metadata": {},
   "source": [
    "-------------------------- BITCOIN DATA"
   ]
  },
  {
   "cell_type": "code",
   "execution_count": 27,
   "id": "4efa4dd9-1022-415f-a8ed-97a7343f512a",
   "metadata": {},
   "outputs": [],
   "source": [
    "btcprice = pd.read_csv(btc_prices)\n",
    "\n",
    "btcprice['Date'] = pd.to_datetime(btcprice['Date'])\n",
    "btcprice = rename_cols(btcprice, ['Open', 'Close', 'High', 'Low', 'Volume'], ['btc_open', 'btc_close', 'btc_high', 'btc_low', 'btc_volume'])\n",
    "btcprice = fill_empty_dates(btcprice, 'Date')\n",
    "\n",
    "# Add the btc_return column (percentage change of 'btc_close')\n",
    "btcprice['btc_return'] = btcprice['btc_close'].pct_change()\n",
    "btcprice['btc_log_return'] = np.log(btcprice['btc_close'] / btcprice['btc_close'].shift(1))\n",
    "btcprice['btc_prev_log_return_1'] = btcprice['btc_log_return'].shift(1)\n",
    "btcprice['btc_prev_log_return_2'] = btcprice['btc_log_return'].shift(2)\n",
    "btcprice['btc_prev_log_return_3'] = btcprice['btc_log_return'].shift(3)\n",
    "btcprice['btc_rolling_mean_return_7'] = btcprice['btc_log_return'].rolling(window=7).mean()\n",
    "btcprice['btc_log_return_volatility'] = btcprice['btc_log_return'].rolling(window=7).std()\n",
    "\n",
    "btcprice['log_btc_volume'] = np.log(btcprice['btc_volume'] + 1)\n",
    "\n",
    "btcprice.dropna(inplace=True)\n",
    "\n",
    "btcprice.to_csv('Preprocessed//btc_price.csv', index=False)\n"
   ]
  },
  {
   "cell_type": "code",
   "execution_count": 28,
   "id": "c88acc50-1034-4f69-b817-c40d582482ad",
   "metadata": {},
   "outputs": [],
   "source": [
    "hashrate = pd.read_csv(hashrate_data)\n",
    "\n",
    "hashrate = hashrate.drop(columns='x')\n",
    "hashrate['datetime'] = pd.to_datetime(hashrate['datetime'])\n",
    "hashrate = rename_cols(hashrate, ['datetime', 'y'], ['Date', 'hashrate'])\n",
    "hashrate = fill_empty_dates(hashrate, 'Date')\n",
    "\n",
    "hashrate.to_csv('Preprocessed/btc_hashrate.csv', index=False)"
   ]
  },
  {
   "cell_type": "code",
   "execution_count": 29,
   "id": "49b4e95e-7d27-488b-b394-d449c3be74c9",
   "metadata": {},
   "outputs": [],
   "source": [
    "difficulty = pd.read_csv(difficulty_data)\n",
    "\n",
    "difficulty = difficulty.drop(columns='x')\n",
    "difficulty['datetime'] = pd.to_datetime(difficulty['datetime'])\n",
    "difficulty = rename_cols(difficulty, ['datetime', 'y'], ['Date', 'difficulty'])\n",
    "difficulty = fill_empty_dates(difficulty, 'Date')\n",
    "\n",
    "difficulty.to_csv('Preprocessed/btc_difficulty.csv', index=False)"
   ]
  },
  {
   "cell_type": "code",
   "execution_count": 30,
   "id": "f3929032-1ee2-4416-8a66-7b43e536eee5",
   "metadata": {},
   "outputs": [],
   "source": [
    "# Merge all datasets\n",
    "\n",
    "btc_price = pd.read_csv('Preprocessed/btc_price.csv')\n",
    "btc_hashrate = pd.read_csv('Preprocessed/btc_hashrate.csv')\n",
    "btc_difficulty = pd.read_csv('Preprocessed/btc_difficulty.csv')\n",
    "\n",
    "macro_sp500 = pd.read_csv('Preprocessed/sp500.csv')\n",
    "macro_bonds = pd.read_csv('Preprocessed/bonds.csv')\n",
    "macro_inflation = pd.read_csv('Preprocessed/inflation_daily.csv')\n",
    "\n",
    "merged_data = btc_price\n",
    "merged_data = merged_data.merge(btc_hashrate, on='Date', how='outer')\n",
    "merged_data = merged_data.merge(btc_difficulty, on='Date', how='outer')\n",
    "merged_data = merged_data.merge(macro_sp500, on='Date', how='outer')\n",
    "merged_data = merged_data.merge(macro_bonds, on='Date', how='outer')\n",
    "merged_data = merged_data.merge(macro_inflation, on='Date', how='outer')\n",
    "\n",
    "merged_data = merged_data.dropna()\n",
    "\n",
    "merged_data.to_csv('Preprocessed/data.csv', index=False)"
   ]
  }
 ],
 "metadata": {
  "kernelspec": {
   "display_name": "Python 3 (ipykernel)",
   "language": "python",
   "name": "python3"
  },
  "language_info": {
   "codemirror_mode": {
    "name": "ipython",
    "version": 3
   },
   "file_extension": ".py",
   "mimetype": "text/x-python",
   "name": "python",
   "nbconvert_exporter": "python",
   "pygments_lexer": "ipython3",
   "version": "3.12.4"
  }
 },
 "nbformat": 4,
 "nbformat_minor": 5
}
