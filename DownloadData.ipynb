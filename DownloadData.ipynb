{
 "cells": [
  {
   "cell_type": "code",
   "execution_count": 2,
   "id": "093d8699-b2ab-4299-bdde-32c7ac621076",
   "metadata": {},
   "outputs": [],
   "source": [
    "# Imports\n",
    "import numpy as np\n",
    "import pandas as pd\n",
    "import yfinance as yf"
   ]
  },
  {
   "cell_type": "code",
   "execution_count": 3,
   "id": "1381af98-5dfe-411e-ac97-ee74fa85c7a9",
   "metadata": {},
   "outputs": [
    {
     "name": "stdout",
     "output_type": "stream",
     "text": [
      "YF.download() has changed argument auto_adjust default to True\n"
     ]
    },
    {
     "name": "stderr",
     "output_type": "stream",
     "text": [
      "[*********************100%***********************]  1 of 1 completed\n"
     ]
    },
    {
     "name": "stdout",
     "output_type": "stream",
     "text": [
      "done\n"
     ]
    },
    {
     "name": "stderr",
     "output_type": "stream",
     "text": [
      "[*********************100%***********************]  1 of 1 completed"
     ]
    },
    {
     "name": "stdout",
     "output_type": "stream",
     "text": [
      "Price       Close   High    Low   Open Volume\n",
      "Ticker       ^TNX   ^TNX   ^TNX   ^TNX   ^TNX\n",
      "Date                                         \n",
      "2019-01-02  2.661  2.679  2.649  2.652      0\n",
      "2019-01-03  2.554  2.656  2.554  2.654      0\n",
      "2019-01-04  2.659  2.673  2.597  2.599      0\n",
      "2019-01-07  2.682  2.687  2.632  2.634      0\n",
      "2019-01-08  2.716  2.717  2.696  2.701      0\n"
     ]
    },
    {
     "name": "stderr",
     "output_type": "stream",
     "text": [
      "\n"
     ]
    }
   ],
   "source": [
    "# Download data\n",
    "\n",
    "sp500 = yf.download('^GSPC', start='2019-01-01', end='2025-01-01')\n",
    "sp500.to_csv('sp500_data.csv')\n",
    "print(\"done\")\n",
    "\n",
    "bonds = yf.download('^TNX', start='2019-01-01', end='2025-01-01')\n",
    "bonds.to_csv('10_year_bonds.csv')\n",
    "print(bonds.head())"
   ]
  },
  {
   "cell_type": "code",
   "execution_count": 5,
   "id": "42adf02a-11f1-409e-871e-f147033691a0",
   "metadata": {},
   "outputs": [
    {
     "name": "stdout",
     "output_type": "stream",
     "text": [
      "        Date  Inflation\n",
      "0   01/01/24        3.1\n",
      "1   01/01/23        6.4\n",
      "2   01/01/22        7.5\n",
      "3   01/01/21        1.4\n",
      "4   01/01/20        2.5\n",
      "..       ...        ...\n",
      "67  12/01/23        3.4\n",
      "68  12/01/22        6.5\n",
      "69  12/01/21        7.0\n",
      "70  12/01/20        1.4\n",
      "71  12/01/19        2.3\n",
      "\n",
      "[72 rows x 2 columns]\n"
     ]
    }
   ],
   "source": [
    "import pandas as pd\n",
    "\n",
    "\n",
    "data = {\n",
    "    \"Year\": [2024, 2023, 2022, 2021, 2020, 2019],\n",
    "    \"Jan\": [3.1, 6.4, 7.5, 1.4, 2.5, 1.6],\n",
    "    \"Feb\": [3.2, 6.0, 7.9, 1.7, 2.3, 1.5],\n",
    "    \"Mar\": [3.5, 5.0, 8.5, 2.6, 1.5, 1.9],\n",
    "    \"Apr\": [3.4, 4.9, 8.3, 4.2, 0.3, 2.0],\n",
    "    \"May\": [3.3, 4.0, 8.6, 5.0, 0.1, 1.8],\n",
    "    \"Jun\": [3.0, 3.0, 9.1, 5.4, 0.6, 1.6],\n",
    "    \"Jul\": [2.9, 3.2, 8.5, 5.4, 1.0, 1.8],\n",
    "    \"Aug\": [2.5, 3.7, 8.3, 5.3, 1.3, 1.7],\n",
    "    \"Sep\": [2.4, 3.7, 8.2, 5.4, 1.4, 1.7],\n",
    "    \"Oct\": [2.6, 3.2, 7.7, 6.2, 1.2, 1.8],\n",
    "    \"Nov\": [2.7, 3.1, 7.1, 6.8, 1.2, 2.1],\n",
    "    \"Dec\": [2.9, 3.4, 6.5, 7.0, 1.4, 2.3],\n",
    "}\n",
    "\n",
    "\n",
    "df = pd.DataFrame(data)\n",
    "df_long = pd.melt(df, id_vars=[\"Year\"], var_name=\"Month\", value_name=\"Inflation\")\n",
    "df_long['Date'] = pd.to_datetime(df_long['Month'] + '-' + df_long['Year'].astype(str), format='%b-%Y')\n",
    "df_long['Date'] = df_long['Date'].dt.strftime('%m/%d/%y')\n",
    "df_long = df_long[['Date', 'Inflation']]\n",
    "df_long.to_csv(\"inflation_data_formatted.csv\", index=False)\n",
    "\n",
    "print(df_long)"
   ]
  },
  {
   "cell_type": "code",
   "execution_count": 13,
   "id": "515b277d-4db5-4d78-8f26-4c3fc2ddf42e",
   "metadata": {},
   "outputs": [
    {
     "name": "stdout",
     "output_type": "stream",
     "text": [
      "dict_keys(['status', 'name', 'unit', 'period', 'description', 'values'])\n"
     ]
    }
   ],
   "source": [
    "import requests\n",
    "import pandas as pd\n",
    "\n",
    "url = 'https://api.blockchain.info/charts/hash-rate'\n",
    "\n",
    "params = {\n",
    "    'timespan': '74months',    \n",
    "    'format': 'json'\n",
    "}\n",
    "\n",
    "response = requests.get(url, params=params)\n",
    "\n",
    "if response.status_code == 200:\n",
    "    data = response.json()\n",
    "\n",
    "    print(data.keys())\n",
    "    difficulty_data = data['values']\n",
    "\n",
    "    df = pd.DataFrame(difficulty_data)\n",
    "    df['datetime'] = pd.to_datetime(df['x'], unit='s')\n",
    "    df.to_csv('BitcoinData/bitcoin_network_hashrate.csv', index=False)\n",
    "else:\n",
    "    print(f\"Request failed with status code {response.status_code}\")\n"
   ]
  },
  {
   "cell_type": "code",
   "execution_count": 14,
   "id": "19226d36-cf17-4b5c-b6ed-28f7fa3cda1d",
   "metadata": {},
   "outputs": [
    {
     "name": "stdout",
     "output_type": "stream",
     "text": [
      "dict_keys(['status', 'name', 'unit', 'period', 'description', 'values'])\n",
      "            x             y   datetime\n",
      "0  1552262400  6.068892e+12 2019-03-11\n",
      "1  1552348800  6.068892e+12 2019-03-12\n",
      "2  1552435200  6.068892e+12 2019-03-13\n",
      "3  1552521600  6.068892e+12 2019-03-14\n",
      "4  1552608000  6.068892e+12 2019-03-15\n"
     ]
    }
   ],
   "source": [
    "import requests\n",
    "import pandas as pd\n",
    "\n",
    "url = 'https://api.blockchain.info/charts/difficulty'\n",
    "params = {\n",
    "    'timespan': '74months',    \n",
    "    'format': 'json'\n",
    "}\n",
    "\n",
    "response = requests.get(url, params=params)\n",
    "\n",
    "if response.status_code == 200:\n",
    "    data = response.json()\n",
    "    print(data.keys())\n",
    "\n",
    "    difficulty_data = data['values']\n",
    "\n",
    "    df = pd.DataFrame(difficulty_data)\n",
    "    df['datetime'] = pd.to_datetime(df['x'], unit='s')\n",
    "    df.to_csv('BitcoinData/bitcoin_network_difficulty.csv', index=False)\n",
    "else:\n",
    "    print(f\"Request failed with status code {response.status_code}\")\n",
    "\n",
    "print(df.head())"
   ]
  }
 ],
 "metadata": {
  "kernelspec": {
   "display_name": "Python 3 (ipykernel)",
   "language": "python",
   "name": "python3"
  },
  "language_info": {
   "codemirror_mode": {
    "name": "ipython",
    "version": 3
   },
   "file_extension": ".py",
   "mimetype": "text/x-python",
   "name": "python",
   "nbconvert_exporter": "python",
   "pygments_lexer": "ipython3",
   "version": "3.12.4"
  }
 },
 "nbformat": 4,
 "nbformat_minor": 5
}
