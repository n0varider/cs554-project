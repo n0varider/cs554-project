{
 "cells": [
  {
   "cell_type": "code",
   "execution_count": null,
   "id": "1b506619-b2be-443b-b685-58d6c827852e",
   "metadata": {},
   "outputs": [],
   "source": [
    "import pandas as pd\n",
    "import numpy as np"
   ]
  },
  {
   "cell_type": "code",
   "execution_count": null,
   "id": "230eb816-2db8-4a9f-83d2-a5a8f64b3f0f",
   "metadata": {},
   "outputs": [],
   "source": [
    "# Load data\n",
    "\n",
    "btc = pd.read_csv('btc_preds.csv')\n",
    "macro = pd.read_csv('macro_preds.csv')\n",
    "btc = btc.reset_index(drop=True)\n",
    "macro = macro.reset_index(drop=True)\n",
    "df = pd.concat([btc, macro], axis=1)\n",
    "\n",
    "print(df.columns)"
   ]
  },
  {
   "cell_type": "code",
   "execution_count": null,
   "id": "b8fad641-906c-41a3-9441-b2bbbbde25dc",
   "metadata": {},
   "outputs": [],
   "source": [
    "data = pd.read_csv('Preprocessed/data.csv')\n",
    "test = sliced_data = data[(data['Date'] > '2023-12-31')]"
   ]
  },
  {
   "cell_type": "code",
   "execution_count": null,
   "id": "0fd72b3d-94c6-40db-9228-bc40f602a438",
   "metadata": {},
   "outputs": [],
   "source": [
    "df = df.dropna()\n",
    "test = test.dropna()"
   ]
  },
  {
   "cell_type": "code",
   "execution_count": null,
   "id": "e1a34a84-cfd7-497a-ae08-f3b380d0662b",
   "metadata": {},
   "outputs": [],
   "source": [
    "# Calculate pred_sum\n",
    "df['pred_sum'] = (0.05 * df['macro_predictions'] + 0.95 * df['btc_predictions']) \n",
    "df['pred_sum'] = df['pred_sum'] * 1.0  # Ensure the result is multiplied by 1.0\n",
    "\n",
    "# Select 10 random samples\n",
    "random_samples = df.sample(n=3)\n",
    "\n",
    "# Print the random samples along with pred_sum\n",
    "print(random_samples[['btc_predictions',\n",
    "                      'macro_predictions',  'pred_sum', 'btc_actual']])\n"
   ]
  },
  {
   "cell_type": "code",
   "execution_count": null,
   "id": "9064493f-47f8-494e-a50f-7db9baae9b93",
   "metadata": {},
   "outputs": [],
   "source": [
    "# Randomly sample 3 days from the first 200 days and 3 days from the last 165 days \n",
    "# This is because the first 200 fit alright but the last days fit poorly\n",
    "\n",
    "from tabulate import tabulate\n",
    "\n",
    "random_sample_1 = df.iloc[1:199].sample(n=3)  \n",
    "\n",
    "random_sample_2 = df.iloc[200:365].sample(n=3)  \n",
    "\n",
    "random_sample_1.index = [f\"Day {i+1}\" for i in random_sample_1.index]\n",
    "random_sample_2.index = [f\"Day {i+1}\" for i in random_sample_2.index]\n",
    "random_samples_combined = pd.concat([random_sample_1, random_sample_2])\n",
    "\n",
    "table = random_samples_combined[['btc_predictions', 'macro_predictions', 'pred_sum', 'btc_actual']]\n",
    "\n",
    "print(tabulate(table, headers='keys', tablefmt='pretty', showindex=True))"
   ]
  },
  {
   "cell_type": "code",
   "execution_count": null,
   "id": "4d08b1c7-1233-4b41-a56a-785b96a46c7f",
   "metadata": {},
   "outputs": [],
   "source": [
    "# Calculate percent error for btc_predictions\n",
    "\n",
    "random_samples_combined['percent_error'] = (random_samples_combined['pred_sum'] - random_samples_combined['btc_actual']) / random_samples_combined['btc_actual'] * 100\n",
    "styled_df = random_samples_combined[['btc_predictions', 'macro_predictions', 'pred_sum', 'btc_actual', 'percent_error']].style \\\n",
    "    .set_table_styles([{\n",
    "        'selector': 'thead th',\n",
    "        'props': [('background-color', '#4CAF50'), ('color', 'white')]\n",
    "    }, {\n",
    "        'selector': 'tbody tr:nth-child(even)',\n",
    "        'props': [('background-color', '#f2f2f2')]\n",
    "    }, {\n",
    "        'selector': 'tbody tr:nth-child(odd)',\n",
    "        'props': [('background-color', '#ffffff')]\n",
    "    }]) \n",
    "\n",
    "# Display df\n",
    "styled_df"
   ]
  },
  {
   "cell_type": "code",
   "execution_count": null,
   "id": "2fe7a70f-3f34-4c6d-bdd0-4bc3365e6140",
   "metadata": {},
   "outputs": [],
   "source": [
    "import matplotlib.pyplot as plt\n",
    "\n",
    "df['pred_sum'] = (0.05 * df['macro_predictions'] + 0.95 * df['btc_predictions']) \n",
    "df['pred_sum'] = df['pred_sum'] * 1.0\n",
    "\n",
    "print(df['pred_sum'][:5])\n",
    "\n",
    "plt.figure(figsize=(10, 6))\n",
    "plt.plot(df['pred_sum'], label='BTC + Macro Predictions', color='blue')\n",
    "plt.plot(test['btc_close'].reset_index(drop=True), label='Actual Price', color='red', linestyle='--')\n",
    "plt.xlabel('Time (Days)')\n",
    "plt.ylabel('Price')\n",
    "plt.title('Weighted Sum vs Actual Bitcoin Price')\n",
    "plt.legend()\n",
    "plt.grid(True)\n",
    "plt.show()\n"
   ]
  },
  {
   "cell_type": "code",
   "execution_count": null,
   "id": "750631fd-d065-47d5-9b9d-5b3983fc9b6f",
   "metadata": {},
   "outputs": [],
   "source": [
    "from sklearn.metrics import mean_squared_error, mean_absolute_error, r2_score\n",
    "import numpy as np\n",
    "\n",
    "y_true = test['btc_close'].reset_index(drop=True)  # Reset the index to align the actual values\n",
    "y_true = y_true[:363]\n",
    "y_pred = df['pred_sum']\n",
    "\n",
    "mse = mean_squared_error(y_true, y_pred)\n",
    "rmse = np.sqrt(mse)\n",
    "mae = mean_absolute_error(y_true, y_pred)\n",
    "r2 = r2_score(y_true, y_pred)\n",
    "\n",
    "# Print the metrics\n",
    "print(f\"Root Mean Squared Error (RMSE): {rmse:.2f}\")\n",
    "print(f\"Mean Absolute Error (MAE): {mae:.2f}\")\n",
    "print(f\"R² (Coefficient of Determination): {r2:.2f}\")"
   ]
  }
 ],
 "metadata": {
  "kernelspec": {
   "display_name": "Python 3 (ipykernel)",
   "language": "python",
   "name": "python3"
  },
  "language_info": {
   "codemirror_mode": {
    "name": "ipython",
    "version": 3
   },
   "file_extension": ".py",
   "mimetype": "text/x-python",
   "name": "python",
   "nbconvert_exporter": "python",
   "pygments_lexer": "ipython3",
   "version": "3.12.4"
  }
 },
 "nbformat": 4,
 "nbformat_minor": 5
}
